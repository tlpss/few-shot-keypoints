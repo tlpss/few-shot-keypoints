{
 "cells": [
  {
   "cell_type": "code",
   "execution_count": 14,
   "id": "911e9a3e",
   "metadata": {},
   "outputs": [],
   "source": [
    "#!wget https://cvlab.postech.ac.kr/research/SPair-71k/data/SPair-71k.tar.gz\n"
   ]
  },
  {
   "cell_type": "code",
   "execution_count": 15,
   "id": "9467d75e",
   "metadata": {},
   "outputs": [],
   "source": [
    "from airo_dataset_tools.data_parsers.coco import CocoKeypointAnnotation, CocoImage, CocoKeypointCategory, CocoKeypointsDataset\n",
    "import json"
   ]
  },
  {
   "cell_type": "code",
   "execution_count": 16,
   "id": "3e66ded9",
   "metadata": {},
   "outputs": [],
   "source": [
    "coco_images = []\n",
    "coco_annotations = []\n",
    "coco_categories = []"
   ]
  },
  {
   "cell_type": "code",
   "execution_count": 17,
   "id": "01a71b6c",
   "metadata": {},
   "outputs": [],
   "source": [
    "from pathlib import Path\n",
    "import glob\n",
    "SPAIR_ROOT = Path(\"/home/tlips/Code/droid/data/SPair-71k\")\n",
    "image_dir = SPAIR_ROOT / \"JPEGImages\"\n",
    "annotation_dir = SPAIR_ROOT / \"ImageAnnotation\""
   ]
  },
  {
   "cell_type": "code",
   "execution_count": 18,
   "id": "8660b965",
   "metadata": {},
   "outputs": [
    {
     "name": "stdout",
     "output_type": "stream",
     "text": [
      "Found 1800 images in /home/tlips/Code/droid/data/SPair-71k/JPEGImages\n"
     ]
    }
   ],
   "source": [
    "all_image_paths = sorted(glob.glob(str(image_dir / '**' / '*.jpg'), recursive=True))\n",
    "print(f\"Found {len(all_image_paths)} images in {image_dir}\")\n"
   ]
  },
  {
   "cell_type": "code",
   "execution_count": 19,
   "id": "40b9c8ba",
   "metadata": {},
   "outputs": [
    {
     "name": "stdout",
     "output_type": "stream",
     "text": [
      "Processed 18 categories.\n"
     ]
    }
   ],
   "source": [
    "# for each category, find a single annotation file, get the number of keypoints and create the category.\n",
    "\n",
    "def image_path_to_annotation_path(image_path):\n",
    "    image_name = Path(image_path).stem\n",
    "    category = Path(image_path).parent.name\n",
    "    annotation_path = annotation_dir / category/ f\"{image_name}.json\"\n",
    "    return annotation_path\n",
    "processed_categories = []\n",
    "for image_path in all_image_paths:\n",
    "    category = Path(image_path).parent.name\n",
    "    annotation_path = image_path_to_annotation_path(image_path)\n",
    "    \n",
    "    if category not in processed_categories:\n",
    "        processed_categories.append(category)\n",
    "             \n",
    "        with open(annotation_path, 'r') as f:\n",
    "            annotations = json.load(f)\n",
    "        \n",
    "            n_keypoints = len(annotations['kps'].keys())\n",
    "            cat = CocoKeypointCategory(\n",
    "                supercategory=\"object\",\n",
    "                id=len(coco_categories) + 1,\n",
    "                name=category,\n",
    "                #TODO: add semantically meaningful names to each semantic keypoint type\n",
    "                keypoints=[f\"kp{i}\" for i in range(n_keypoints)],\n",
    "                skeleton=[]  # Assuming no skeleton for now\n",
    "            )\n",
    "            coco_categories.append(cat)\n",
    "print(f\"Processed {len(processed_categories)} categories.\")"
   ]
  },
  {
   "cell_type": "code",
   "execution_count": 20,
   "id": "85afb0a5",
   "metadata": {},
   "outputs": [],
   "source": [
    "category_to_id_map = {cat.name: cat.id for cat in coco_categories}"
   ]
  },
  {
   "cell_type": "code",
   "execution_count": 21,
   "id": "fc242d57",
   "metadata": {},
   "outputs": [],
   "source": [
    "# add all images\n",
    "def generate_coco_images_and_annotations(all_image_paths):\n",
    "    coco_images = []\n",
    "    coco_annotations = []\n",
    "    for image_path in all_image_paths:\n",
    "        category = Path(image_path).parent.name\n",
    "        annotation_path = image_path_to_annotation_path(image_path)\n",
    "        \n",
    "        with open(annotation_path, 'r') as f:\n",
    "            annotations = json.load(f)\n",
    "        \n",
    "        image_id = len(coco_images) + 1\n",
    "        coco_image = CocoImage(\n",
    "            id=image_id,\n",
    "            file_name=str(Path(image_path).relative_to(image_dir.parent)),\n",
    "            width=annotations['image_width'],\n",
    "            height=annotations['image_height'],\n",
    "        )\n",
    "        coco_images.append(coco_image)\n",
    "        \n",
    "        # add annotations\n",
    "        bbox = annotations['bndbox']\n",
    "        x1,y1,x2,y2 = bbox\n",
    "        width = x2 - x1\n",
    "        height = y2 - y1\n",
    "        keypoints = []\n",
    "        n_keypoints = 0\n",
    "        for kp in annotations['kps'].values():\n",
    "            if kp is None:\n",
    "                keypoints.extend([0, 0, 0])\n",
    "            else:\n",
    "                n_keypoints += 1\n",
    "                u,v = kp\n",
    "                keypoints.extend([u, v, 2])\n",
    "        \n",
    "        coco_annotation = CocoKeypointAnnotation(\n",
    "            id=len(coco_annotations) + 1,\n",
    "            image_id=image_id,\n",
    "            category_id=category_to_id_map[category],\n",
    "            keypoints=keypoints,\n",
    "            num_keypoints=n_keypoints,\n",
    "            bbox=[x1, y1, width, height],\n",
    "            area=width*height,\n",
    "        )\n",
    "        #TODO: add segmentations, but they seem to have different formats.\n",
    "        coco_annotations.append(coco_annotation)\n",
    "    return coco_images, coco_annotations\n"
   ]
  },
  {
   "cell_type": "code",
   "execution_count": 22,
   "id": "d3695dca",
   "metadata": {},
   "outputs": [],
   "source": [
    "# all in one dataset\n",
    "coco_images, coco_annotations = generate_coco_images_and_annotations(all_image_paths)\n",
    "\n",
    "coco_dataset = CocoKeypointsDataset(\n",
    "    images=coco_images,\n",
    "    annotations=coco_annotations,\n",
    "    categories=coco_categories\n",
    ")\n",
    "\n",
    "# Save the dataset to a JSON file\n",
    "output_path = SPAIR_ROOT / \"SPAIR_coco_dataset.json\"\n",
    "with open(output_path, 'w') as f:\n",
    "    json.dump(coco_dataset.model_dump(), f)\n",
    "\n"
   ]
  },
  {
   "cell_type": "code",
   "execution_count": 23,
   "id": "015c4664",
   "metadata": {},
   "outputs": [],
   "source": [
    "# now for each category, find the amount of keypoints for each keypoint type\n",
    "\n",
    "category_type_amount = {}\n",
    "for category in coco_dataset.categories:\n",
    "    category_type_amount[category.name] = {}\n",
    "\n",
    "    for keypoint in category.keypoints:\n",
    "        amount = 0\n",
    "        for annotation in coco_dataset.annotations:\n",
    "            if annotation.category_id == category.id:\n",
    "                if annotation.keypoints[3*category.keypoints.index(keypoint)] > 0:\n",
    "                    amount += 1\n",
    "        category_type_amount[category.name][keypoint] = amount\n",
    "    \n",
    "\n"
   ]
  },
  {
   "cell_type": "code",
   "execution_count": 24,
   "id": "0a1a2085",
   "metadata": {},
   "outputs": [
    {
     "name": "stdout",
     "output_type": "stream",
     "text": [
      "aeroplane: 27\n",
      "bicycle: 21\n",
      "bird: 23\n",
      "boat: 22\n",
      "bottle: 20\n",
      "bus: 29\n",
      "car: 30\n",
      "cat: 22\n",
      "chair: 22\n",
      "cow: 25\n",
      "dog: 23\n",
      "horse: 25\n",
      "motorbike: 21\n",
      "person: 25\n",
      "pottedplant: 19\n",
      "sheep: 25\n",
      "train: 24\n",
      "tvmonitor: 23\n"
     ]
    }
   ],
   "source": [
    "# now drop all the keypoint types for which there are 0 visible keypoints\n",
    "\n",
    "for category in coco_dataset.categories:\n",
    "    for keypoint in category.keypoints:\n",
    "        amount = 0\n",
    "        for annotation in coco_dataset.annotations:\n",
    "            if annotation.category_id == category.id:\n",
    "                if annotation.keypoints[3*category.keypoints.index(keypoint)] > 0:\n",
    "                    amount += 1\n",
    "        if amount == 0:\n",
    "            for annotation in coco_dataset.annotations:\n",
    "                if annotation.category_id == category.id:\n",
    "                    annotation.keypoints = annotation.keypoints[:3*category.keypoints.index(keypoint)] + annotation.keypoints[3*category.keypoints.index(keypoint)+3:]\n",
    "            category.keypoints.remove(keypoint)\n",
    " \n",
    "\n",
    "\n",
    "for category in coco_dataset.categories:\n",
    "    print(f\"{category.name}: {len(category.keypoints)}\")"
   ]
  },
  {
   "cell_type": "code",
   "execution_count": 25,
   "id": "f6b03d4f",
   "metadata": {},
   "outputs": [
    {
     "name": "stdout",
     "output_type": "stream",
     "text": [
      "Category aeroplane has 100 images and 100 annotations.\n",
      "Category bicycle has 100 images and 100 annotations.\n",
      "Category bird has 100 images and 100 annotations.\n",
      "Category boat has 100 images and 100 annotations.\n",
      "Category bottle has 100 images and 100 annotations.\n",
      "Category bus has 100 images and 100 annotations.\n",
      "Category car has 100 images and 100 annotations.\n",
      "Category cat has 100 images and 100 annotations.\n",
      "Category chair has 100 images and 100 annotations.\n",
      "Category cow has 100 images and 100 annotations.\n",
      "Category dog has 100 images and 100 annotations.\n",
      "Category horse has 100 images and 100 annotations.\n",
      "Category motorbike has 100 images and 100 annotations.\n",
      "Category person has 100 images and 100 annotations.\n",
      "Category pottedplant has 100 images and 100 annotations.\n",
      "Category sheep has 100 images and 100 annotations.\n",
      "Category train has 100 images and 100 annotations.\n",
      "Category tvmonitor has 100 images and 100 annotations.\n"
     ]
    }
   ],
   "source": [
    "# split the images by category, and split in train/test splits\n",
    "for category in coco_categories:\n",
    "    category_images = [img for img in coco_images if category.name in img.file_name]\n",
    "    category_annotations = [ann for ann in coco_annotations if ann.category_id == category.id]\n",
    "\n",
    "    print(f\"Category {category.name} has {len(category_images)} images and {len(category_annotations)} annotations.\")\n",
    "    \n",
    "    train_ratio = 0.5\n",
    "    # shuffle the images\n",
    "    import random\n",
    "    random.seed(2025)  # For reproducibility\n",
    "    random.shuffle(category_images)\n",
    "    train_category_images = category_images[:int(len(category_images) * train_ratio)]\n",
    "    test_category_images = category_images[int(len(category_images) * train_ratio):]\n",
    "\n",
    "    train_category_annotations = [ann for ann in category_annotations if ann.image_id in [img.id for img in train_category_images]]\n",
    "    test_category_annotations = [ann for ann in category_annotations if ann.image_id in [img.id for img in test_category_images]]\n",
    " \n",
    "    # Create datasets for train and test splits\n",
    "    train_category_dataset = CocoKeypointsDataset(\n",
    "        images=train_category_images,\n",
    "        annotations=train_category_annotations,\n",
    "        categories=[category]\n",
    "    )\n",
    "    test_category_dataset = CocoKeypointsDataset(\n",
    "        images=test_category_images,\n",
    "        annotations=test_category_annotations,\n",
    "        categories=[category]\n",
    "    )\n",
    "    # Save train and test datasets to separate JSON files\n",
    "    train_output_path = SPAIR_ROOT / f\"SPAIR_coco_{category.name}_train.json\"\n",
    "    with open(train_output_path, 'w') as f:\n",
    "        json.dump(train_category_dataset.model_dump(), f)    \n",
    "    \n",
    "    test_output_path = SPAIR_ROOT / f\"SPAIR_coco_{category.name}_test.json\"\n",
    "    with open(test_output_path, 'w') as f:\n",
    "        json.dump(test_category_dataset.model_dump(), f)"
   ]
  },
  {
   "cell_type": "code",
   "execution_count": 26,
   "id": "cd752e90",
   "metadata": {},
   "outputs": [
    {
     "name": "stdout",
     "output_type": "stream",
     "text": [
      "tensor(202) tensor(53)\n"
     ]
    }
   ],
   "source": [
    "import torch\n",
    "\n",
    "x = torch.randn(1,512)\n",
    "img = torch.randn(1,512,256,256)\n",
    "\n",
    "x = x.unsqueeze(2).unsqueeze(3)\n",
    "\n",
    "from torch.nn.functional import cosine_similarity\n",
    "\n",
    "sim  =cosine_similarity(x, img,dim=1)\n",
    "\n",
    "sim.shape\n",
    "\n",
    "\n",
    "\n",
    "# find argmax of sim\n",
    "\n",
    "argmax = sim.argmax()\n",
    "\n",
    "x = torch.unravel_index(argmax, sim.shape)\n",
    "_,u,v = x\n",
    "\n",
    "print(u,v)\n",
    "\n",
    "\n",
    "\n",
    "\n",
    "\n"
   ]
  }
 ],
 "metadata": {
  "kernelspec": {
   "display_name": ".venv",
   "language": "python",
   "name": "python3"
  },
  "language_info": {
   "codemirror_mode": {
    "name": "ipython",
    "version": 3
   },
   "file_extension": ".py",
   "mimetype": "text/x-python",
   "name": "python",
   "nbconvert_exporter": "python",
   "pygments_lexer": "ipython3",
   "version": "3.12.10"
  }
 },
 "nbformat": 4,
 "nbformat_minor": 5
}
