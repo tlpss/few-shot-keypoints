{
 "cells": [
  {
   "cell_type": "code",
   "execution_count": null,
   "id": "fd605eb6",
   "metadata": {},
   "outputs": [],
   "source": [
    "import torch\n",
    "from PIL import Image\n",
    "from transformers import AutoModel, CLIPImageProcessor\n",
    "\n",
    "hf_repo = \"nvidia/C-RADIOv2-H\"\n",
    "\n",
    "image_processor = CLIPImageProcessor.from_pretrained(hf_repo)\n",
    "model = AutoModel.from_pretrained(hf_repo, trust_remote_code=True)\n",
    "model.eval().cuda()\n",
    "\n",
    "\n"
   ]
  },
  {
   "cell_type": "code",
   "execution_count": null,
   "id": "029a1b79",
   "metadata": {},
   "outputs": [],
   "source": [
    "url = 'http://images.cocodataset.org/val2017/000000039769.jpg'\n",
    "import requests\n",
    "image = Image.open(requests.get(url, stream=True).raw)\n",
    "pixel_values = image_processor(images=image, return_tensors='pt', do_resize=True).pixel_values\n",
    "pixel_values = pixel_values.cuda()\n",
    "print(pixel_values.shape)\n",
    "summary, spatial_features = model(pixel_values)\n",
    "print(spatial_features.shape)"
   ]
  },
  {
   "cell_type": "code",
   "execution_count": null,
   "id": "9ba3d920",
   "metadata": {},
   "outputs": [],
   "source": [
    "# create 2D grid of the features.\n",
    "from einops import rearrange\n",
    "patch_size= 16\n",
    "\n",
    "spatial_features = rearrange(spatial_features, 'b (h w) d -> b d h w', h=pixel_values.shape[-2] // patch_size, w=pixel_values.shape[-1] // patch_size)\n",
    "\n",
    "print(spatial_features.shape)"
   ]
  },
  {
   "cell_type": "code",
   "execution_count": null,
   "id": "32240ee9",
   "metadata": {},
   "outputs": [],
   "source": [
    "# visualize the features?\n",
    "\n",
    "# do PCA on the features\n",
    "\n",
    "import matplotlib.pyplot as plt\n",
    "from sklearn.decomposition import PCA\n",
    "\n",
    "pca = PCA(n_components=3)       \n",
    "\n",
    "# create features as (H*W,D) from (B,D,H,W)\n",
    "features = spatial_features[0].detach().cpu().numpy()\n",
    "features = features.transpose(1,2,0)\n",
    "features = features.reshape(-1, features.shape[-1])\n",
    "pca.fit(features)\n",
    "\n",
    "# plot as image, side by side to original image\n",
    "result = pca.transform(features)\n",
    "result = result.reshape(spatial_features.shape[2], spatial_features.shape[3], 3)\n",
    "\n",
    "# create a side by side image\n",
    "fig, axs = plt.subplots(1, 2, figsize=(10, 5))\n",
    "axs[0].imshow(image)\n",
    "axs[1].imshow(result)\n",
    "plt.show()\n"
   ]
  },
  {
   "cell_type": "code",
   "execution_count": null,
   "id": "eef3ab78",
   "metadata": {},
   "outputs": [],
   "source": [
    "x = model.model.forward_intermediates(pixel_values,indices=[15,31],intermediates_only=True,aggregation=\"dense\")\n",
    "z=x\n",
    "print(len(z))\n",
    "print(z[0].shape)"
   ]
  },
  {
   "cell_type": "code",
   "execution_count": null,
   "id": "e54185d0",
   "metadata": {},
   "outputs": [],
   "source": [
    "print(torch.cuda.memory_allocated()/1024**2)\n",
    "print(torch.cuda.memory_reserved()/1024**2)\n",
    "print(torch.cuda.memory_summary(device=None, abbreviated=False))"
   ]
  },
  {
   "cell_type": "code",
   "execution_count": null,
   "id": "086ebb35",
   "metadata": {},
   "outputs": [],
   "source": [
    "import torch\n",
    "import gc   \n",
    "\n",
    "\n",
    "del model\n",
    "del x\n",
    "del z\n",
    "del spatial_features\n",
    "del pixel_values\n",
    "del image\n",
    "del image_processor\n",
    "del summary\n",
    "\n",
    "model = None\n",
    "gc.collect()\n",
    "torch.cuda.empty_cache()"
   ]
  },
  {
   "cell_type": "code",
   "execution_count": null,
   "id": "f21187c6",
   "metadata": {},
   "outputs": [],
   "source": [
    "print(torch.cuda.memory_allocated()/1024**2)\n",
    "print(torch.cuda.memory_reserved()/1024**2)\n",
    "print(torch.cuda.memory_summary(device=None, abbreviated=False))"
   ]
  }
 ],
 "metadata": {
  "kernelspec": {
   "display_name": ".venv",
   "language": "python",
   "name": "python3"
  },
  "language_info": {
   "codemirror_mode": {
    "name": "ipython",
    "version": 3
   },
   "file_extension": ".py",
   "mimetype": "text/x-python",
   "name": "python",
   "nbconvert_exporter": "python",
   "pygments_lexer": "ipython3",
   "version": "3.12.10"
  }
 },
 "nbformat": 4,
 "nbformat_minor": 5
}
